{
 "cells": [
  {
   "cell_type": "markdown",
   "metadata": {},
   "source": [
    "# Gensim\n",
    "\n",
    "Una librería que carga los embeddings super super rapido"
   ]
  },
  {
   "cell_type": "code",
   "execution_count": 1,
   "metadata": {
    "_kg_hide-input": false
   },
   "outputs": [],
   "source": [
    "from gensim.models import KeyedVectors"
   ]
  },
  {
   "cell_type": "code",
   "execution_count": 6,
   "metadata": {},
   "outputs": [
    {
     "name": "stdout",
     "output_type": "stream",
     "text": [
      "glove.840B.300d.gensim\t\t    glove.840B.300d.gensim.vectors.npy.zip\r\n",
      "glove.840B.300d.gensim.vectors.npy  glove.840B.300d.txt\r\n"
     ]
    }
   ],
   "source": [
    "!ls ../input/glove840b300dtxt/glove.840B.300d.gensim"
   ]
  },
  {
   "cell_type": "code",
   "execution_count": 7,
   "metadata": {
    "_kg_hide-input": false
   },
   "outputs": [
    {
     "name": "stderr",
     "output_type": "stream",
     "text": [
      "/home/rde/.local/lib/python3.6/site-packages/smart_open/smart_open_lib.py:398: UserWarning: This function is deprecated, use smart_open.open instead. See the migration notes for details: https://github.com/RaRe-Technologies/smart_open/blob/master/README.rst#migrating-to-the-new-open-function\n",
      "  'See the migration notes for details: %s' % _MIGRATION_NOTES_URL\n"
     ]
    },
    {
     "name": "stdout",
     "output_type": "stream",
     "text": [
      "CPU times: user 3.38 s, sys: 1.67 s, total: 5.05 s\n",
      "Wall time: 5.32 s\n"
     ]
    }
   ],
   "source": [
    "%time model = KeyedVectors.load(\"../input/glove840b300dtxt/glove.840B.300d.gensim\")"
   ]
  },
  {
   "cell_type": "code",
   "execution_count": null,
   "metadata": {},
   "outputs": [],
   "source": []
  },
  {
   "cell_type": "code",
   "execution_count": 10,
   "metadata": {},
   "outputs": [
    {
     "data": {
      "text/plain": [
       "array([[-0.082752,  0.67204 , -0.14987 , ..., -0.1918  , -0.37846 ,\n",
       "        -0.06589 ],\n",
       "       [ 0.012001,  0.20751 , -0.12578 , ...,  0.13871 , -0.36049 ,\n",
       "        -0.035   ],\n",
       "       [ 0.27204 , -0.06203 , -0.1884  , ...,  0.13015 , -0.18317 ,\n",
       "         0.1323  ],\n",
       "       ...,\n",
       "       [ 0.7344  , -0.33641 ,  0.26918 , ...,  0.63718 , -0.13914 ,\n",
       "        -0.16472 ],\n",
       "       [ 0.21215 , -0.99456 ,  1.1782  , ...,  0.93427 , -0.93286 ,\n",
       "        -0.51479 ],\n",
       "       [-0.07969 , -0.22905 ,  0.80366 , ..., -0.083561,  0.48532 ,\n",
       "        -0.7313  ]], dtype=float32)"
      ]
     },
     "execution_count": 10,
     "metadata": {},
     "output_type": "execute_result"
    }
   ],
   "source": [
    "model.vectors"
   ]
  },
  {
   "cell_type": "code",
   "execution_count": null,
   "metadata": {},
   "outputs": [],
   "source": []
  },
  {
   "cell_type": "code",
   "execution_count": 16,
   "metadata": {},
   "outputs": [],
   "source": [
    "model.get_keras_embedding?"
   ]
  },
  {
   "cell_type": "code",
   "execution_count": null,
   "metadata": {},
   "outputs": [],
   "source": []
  }
 ],
 "metadata": {
  "kernelspec": {
   "display_name": "Python 3",
   "language": "python",
   "name": "python3"
  },
  "language_info": {
   "codemirror_mode": {
    "name": "ipython",
    "version": 3
   },
   "file_extension": ".py",
   "mimetype": "text/x-python",
   "name": "python",
   "nbconvert_exporter": "python",
   "pygments_lexer": "ipython3",
   "version": "3.6.7"
  }
 },
 "nbformat": 4,
 "nbformat_minor": 1
}
